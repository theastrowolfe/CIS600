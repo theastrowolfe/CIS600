{
 "cells": [
  {
   "cell_type": "markdown",
   "id": "41629b4d",
   "metadata": {},
   "source": [
    "# Data Preparation, Exploratory Data Analysis, and Visualization"
   ]
  },
  {
   "cell_type": "code",
   "execution_count": 1,
   "id": "23650f70",
   "metadata": {},
   "outputs": [],
   "source": [
    "import matplotlib\n",
    "import numpy\n",
    "import pandas\n",
    "import plotly\n",
    "import scipy\n",
    "import seaborn\n",
    "from scipy.stats.mstats import winsorize"
   ]
  },
  {
   "cell_type": "code",
   "execution_count": 2,
   "id": "bded1bf2",
   "metadata": {},
   "outputs": [
    {
     "name": "stdout",
     "output_type": "stream",
     "text": [
      "<class 'pandas.core.frame.DataFrame'>\n",
      "RangeIndex: 234 entries, 0 to 233\n",
      "Data columns (total 11 columns):\n",
      " #   Column        Non-Null Count  Dtype  \n",
      "---  ------        --------------  -----  \n",
      " 0   manufacturer  234 non-null    object \n",
      " 1   model         234 non-null    object \n",
      " 2   displ         234 non-null    float64\n",
      " 3   year          234 non-null    int64  \n",
      " 4   cyl           234 non-null    int64  \n",
      " 5   trans         234 non-null    object \n",
      " 6   drv           234 non-null    object \n",
      " 7   cty           234 non-null    int64  \n",
      " 8   hwy           234 non-null    int64  \n",
      " 9   fl            234 non-null    object \n",
      " 10  class         234 non-null    object \n",
      "dtypes: float64(1), int64(4), object(6)\n",
      "memory usage: 20.2+ KB\n"
     ]
    }
   ],
   "source": [
    "mpg = pandas.read_csv(\"https://raw.githubusercontent.com/tidyverse/ggplot2/master/data-raw/mpg.csv\")\n",
    "mpg.info()"
   ]
  },
  {
   "cell_type": "code",
   "execution_count": 3,
   "id": "4075fa4d",
   "metadata": {},
   "outputs": [
    {
     "data": {
      "text/plain": [
       "Index(['displ', 'year', 'cyl', 'cty', 'hwy'], dtype='object')"
      ]
     },
     "execution_count": 3,
     "metadata": {},
     "output_type": "execute_result"
    }
   ],
   "source": [
    "mpg.select_dtypes('number').columns"
   ]
  },
  {
   "cell_type": "code",
   "execution_count": 4,
   "id": "2099f449",
   "metadata": {},
   "outputs": [
    {
     "data": {
      "text/plain": [
       "(8.974, 22.0]    216\n",
       "(22.0, 35.0]      18\n",
       "Name: cty2interval, dtype: int64"
      ]
     },
     "execution_count": 4,
     "metadata": {},
     "output_type": "execute_result"
    }
   ],
   "source": [
    "mpg['cty2interval'] = pandas.cut(mpg['cty'], bins=2) # equal interval discretization\n",
    "mpg['cty2interval'].value_counts()"
   ]
  },
  {
   "cell_type": "code",
   "execution_count": 5,
   "id": "89cb330c",
   "metadata": {},
   "outputs": [
    {
     "data": {
      "text/plain": [
       "low     132\n",
       "high    102\n",
       "Name: cty2freq, dtype: int64"
      ]
     },
     "execution_count": 5,
     "metadata": {},
     "output_type": "execute_result"
    }
   ],
   "source": [
    "mpg['cty2freq'] = pandas.qcut(mpg['cty'], q=2, labels=['low', 'high']) # equal frequency discretization\n",
    "mpg['cty2freq'].value_counts()"
   ]
  },
  {
   "cell_type": "code",
   "execution_count": 6,
   "id": "35e065a0",
   "metadata": {},
   "outputs": [
    {
     "name": "stdout",
     "output_type": "stream",
     "text": [
      "manufacturer has 15 unique values\n",
      "model has 38 unique values\n",
      "trans has 10 unique values\n",
      "drv has 3 unique values\n",
      "fl has 5 unique values\n",
      "class has 7 unique values\n"
     ]
    },
    {
     "data": {
      "text/html": [
       "<div>\n",
       "<style scoped>\n",
       "    .dataframe tbody tr th:only-of-type {\n",
       "        vertical-align: middle;\n",
       "    }\n",
       "\n",
       "    .dataframe tbody tr th {\n",
       "        vertical-align: top;\n",
       "    }\n",
       "\n",
       "    .dataframe thead th {\n",
       "        text-align: right;\n",
       "    }\n",
       "</style>\n",
       "<table border=\"1\" class=\"dataframe\">\n",
       "  <thead>\n",
       "    <tr style=\"text-align: right;\">\n",
       "      <th></th>\n",
       "      <th>4</th>\n",
       "      <th>f</th>\n",
       "      <th>r</th>\n",
       "      <th>drv</th>\n",
       "    </tr>\n",
       "  </thead>\n",
       "  <tbody>\n",
       "    <tr>\n",
       "      <th>0</th>\n",
       "      <td>0</td>\n",
       "      <td>1</td>\n",
       "      <td>0</td>\n",
       "      <td>f</td>\n",
       "    </tr>\n",
       "    <tr>\n",
       "      <th>1</th>\n",
       "      <td>0</td>\n",
       "      <td>1</td>\n",
       "      <td>0</td>\n",
       "      <td>f</td>\n",
       "    </tr>\n",
       "    <tr>\n",
       "      <th>2</th>\n",
       "      <td>0</td>\n",
       "      <td>1</td>\n",
       "      <td>0</td>\n",
       "      <td>f</td>\n",
       "    </tr>\n",
       "    <tr>\n",
       "      <th>3</th>\n",
       "      <td>0</td>\n",
       "      <td>1</td>\n",
       "      <td>0</td>\n",
       "      <td>f</td>\n",
       "    </tr>\n",
       "    <tr>\n",
       "      <th>4</th>\n",
       "      <td>0</td>\n",
       "      <td>1</td>\n",
       "      <td>0</td>\n",
       "      <td>f</td>\n",
       "    </tr>\n",
       "    <tr>\n",
       "      <th>...</th>\n",
       "      <td>...</td>\n",
       "      <td>...</td>\n",
       "      <td>...</td>\n",
       "      <td>...</td>\n",
       "    </tr>\n",
       "    <tr>\n",
       "      <th>229</th>\n",
       "      <td>0</td>\n",
       "      <td>1</td>\n",
       "      <td>0</td>\n",
       "      <td>f</td>\n",
       "    </tr>\n",
       "    <tr>\n",
       "      <th>230</th>\n",
       "      <td>0</td>\n",
       "      <td>1</td>\n",
       "      <td>0</td>\n",
       "      <td>f</td>\n",
       "    </tr>\n",
       "    <tr>\n",
       "      <th>231</th>\n",
       "      <td>0</td>\n",
       "      <td>1</td>\n",
       "      <td>0</td>\n",
       "      <td>f</td>\n",
       "    </tr>\n",
       "    <tr>\n",
       "      <th>232</th>\n",
       "      <td>0</td>\n",
       "      <td>1</td>\n",
       "      <td>0</td>\n",
       "      <td>f</td>\n",
       "    </tr>\n",
       "    <tr>\n",
       "      <th>233</th>\n",
       "      <td>0</td>\n",
       "      <td>1</td>\n",
       "      <td>0</td>\n",
       "      <td>f</td>\n",
       "    </tr>\n",
       "  </tbody>\n",
       "</table>\n",
       "<p>234 rows × 4 columns</p>\n",
       "</div>"
      ],
      "text/plain": [
       "     4  f  r drv\n",
       "0    0  1  0   f\n",
       "1    0  1  0   f\n",
       "2    0  1  0   f\n",
       "3    0  1  0   f\n",
       "4    0  1  0   f\n",
       "..  .. .. ..  ..\n",
       "229  0  1  0   f\n",
       "230  0  1  0   f\n",
       "231  0  1  0   f\n",
       "232  0  1  0   f\n",
       "233  0  1  0   f\n",
       "\n",
       "[234 rows x 4 columns]"
      ]
     },
     "execution_count": 6,
     "metadata": {},
     "output_type": "execute_result"
    }
   ],
   "source": [
    "obj_col = mpg.select_dtypes('object').columns\n",
    "for col in obj_col:\n",
    "    print(f\"{col} has {mpg[col].nunique()} unique values\")\n",
    "    \n",
    "pandas.concat([pandas.get_dummies(mpg['drv']), mpg['drv']], axis=1)"
   ]
  },
  {
   "cell_type": "code",
   "execution_count": 7,
   "id": "1174f0b6",
   "metadata": {},
   "outputs": [
    {
     "data": {
      "text/plain": [
       "9"
      ]
     },
     "execution_count": 7,
     "metadata": {},
     "output_type": "execute_result"
    }
   ],
   "source": [
    "numpy.min(mpg['cty'])"
   ]
  },
  {
   "cell_type": "code",
   "execution_count": 8,
   "id": "d05d3abd",
   "metadata": {},
   "outputs": [
    {
     "data": {
      "text/plain": [
       "11"
      ]
     },
     "execution_count": 8,
     "metadata": {},
     "output_type": "execute_result"
    }
   ],
   "source": [
    "numpy.min(winsorize(mpg['cty'], limits=[0.1, 0.1]))"
   ]
  },
  {
   "cell_type": "code",
   "execution_count": 9,
   "id": "f3fd53c4",
   "metadata": {},
   "outputs": [
    {
     "data": {
      "text/plain": [
       "35"
      ]
     },
     "execution_count": 9,
     "metadata": {},
     "output_type": "execute_result"
    }
   ],
   "source": [
    "numpy.max(mpg['cty'])"
   ]
  },
  {
   "cell_type": "code",
   "execution_count": 10,
   "id": "a526f053",
   "metadata": {},
   "outputs": [
    {
     "data": {
      "text/plain": [
       "21"
      ]
     },
     "execution_count": 10,
     "metadata": {},
     "output_type": "execute_result"
    }
   ],
   "source": [
    "numpy.max(winsorize(mpg['cty'], limits=[0.1, 0.1]))"
   ]
  },
  {
   "cell_type": "code",
   "execution_count": 11,
   "id": "8ea43076",
   "metadata": {},
   "outputs": [
    {
     "name": "stdout",
     "output_type": "stream",
     "text": [
      "There are 0 missing values.\n",
      "There are 9 duplicated records.\n"
     ]
    }
   ],
   "source": [
    "print(f\"There are {mpg.isna().sum().sum()} missing values.\")\n",
    "print(f\"There are {mpg.duplicated().sum()} duplicated records.\")"
   ]
  },
  {
   "cell_type": "code",
   "execution_count": 12,
   "id": "a0eb57e7",
   "metadata": {},
   "outputs": [
    {
     "data": {
      "text/plain": [
       "drv\n",
       "4    14.330097\n",
       "f    19.971698\n",
       "r    14.080000\n",
       "Name: cty, dtype: float64"
      ]
     },
     "execution_count": 12,
     "metadata": {},
     "output_type": "execute_result"
    }
   ],
   "source": [
    "mpg.groupby('drv')['cty'].mean()"
   ]
  },
  {
   "cell_type": "code",
   "execution_count": 13,
   "id": "6d79c289",
   "metadata": {},
   "outputs": [
    {
     "data": {
      "text/html": [
       "<div>\n",
       "<style scoped>\n",
       "    .dataframe tbody tr th:only-of-type {\n",
       "        vertical-align: middle;\n",
       "    }\n",
       "\n",
       "    .dataframe tbody tr th {\n",
       "        vertical-align: top;\n",
       "    }\n",
       "\n",
       "    .dataframe thead th {\n",
       "        text-align: right;\n",
       "    }\n",
       "</style>\n",
       "<table border=\"1\" class=\"dataframe\">\n",
       "  <thead>\n",
       "    <tr style=\"text-align: right;\">\n",
       "      <th></th>\n",
       "      <th>drv</th>\n",
       "      <th>count</th>\n",
       "      <th>mean</th>\n",
       "      <th>std</th>\n",
       "    </tr>\n",
       "  </thead>\n",
       "  <tbody>\n",
       "    <tr>\n",
       "      <th>0</th>\n",
       "      <td>4</td>\n",
       "      <td>103</td>\n",
       "      <td>14.330097</td>\n",
       "      <td>2.874459</td>\n",
       "    </tr>\n",
       "    <tr>\n",
       "      <th>1</th>\n",
       "      <td>f</td>\n",
       "      <td>106</td>\n",
       "      <td>19.971698</td>\n",
       "      <td>3.626510</td>\n",
       "    </tr>\n",
       "    <tr>\n",
       "      <th>2</th>\n",
       "      <td>r</td>\n",
       "      <td>25</td>\n",
       "      <td>14.080000</td>\n",
       "      <td>2.215852</td>\n",
       "    </tr>\n",
       "  </tbody>\n",
       "</table>\n",
       "</div>"
      ],
      "text/plain": [
       "  drv  count       mean       std\n",
       "0   4    103  14.330097  2.874459\n",
       "1   f    106  19.971698  3.626510\n",
       "2   r     25  14.080000  2.215852"
      ]
     },
     "execution_count": 13,
     "metadata": {},
     "output_type": "execute_result"
    }
   ],
   "source": [
    "mpg.groupby('drv')['cty'].agg(['count', 'mean', 'std']).reset_index()"
   ]
  },
  {
   "cell_type": "code",
   "execution_count": 14,
   "id": "4a711b49",
   "metadata": {},
   "outputs": [
    {
     "data": {
      "text/plain": [
       "count    2.340000e+02\n",
       "mean     3.564041e-16\n",
       "std      1.000000e+00\n",
       "min     -1.846587e+00\n",
       "25%     -6.717601e-01\n",
       "50%      3.313615e-02\n",
       "75%      5.030670e-01\n",
       "max      4.262513e+00\n",
       "Name: cty_zscore, dtype: float64"
      ]
     },
     "execution_count": 14,
     "metadata": {},
     "output_type": "execute_result"
    }
   ],
   "source": [
    "mpg['cty_zscore'] = (mpg['cty'] - mpg['cty'].mean())/mpg['cty'].std()\n",
    "mpg['cty_zscore'].describe()"
   ]
  },
  {
   "cell_type": "code",
   "execution_count": 15,
   "id": "2b7083d3",
   "metadata": {},
   "outputs": [
    {
     "data": {
      "text/html": [
       "<div>\n",
       "<style scoped>\n",
       "    .dataframe tbody tr th:only-of-type {\n",
       "        vertical-align: middle;\n",
       "    }\n",
       "\n",
       "    .dataframe tbody tr th {\n",
       "        vertical-align: top;\n",
       "    }\n",
       "\n",
       "    .dataframe thead th {\n",
       "        text-align: right;\n",
       "    }\n",
       "</style>\n",
       "<table border=\"1\" class=\"dataframe\">\n",
       "  <thead>\n",
       "    <tr style=\"text-align: right;\">\n",
       "      <th></th>\n",
       "      <th>manufacturer</th>\n",
       "      <th>model</th>\n",
       "      <th>displ</th>\n",
       "      <th>year</th>\n",
       "      <th>cyl</th>\n",
       "      <th>trans</th>\n",
       "      <th>drv</th>\n",
       "      <th>cty</th>\n",
       "      <th>hwy</th>\n",
       "      <th>fl</th>\n",
       "      <th>class</th>\n",
       "      <th>cty2interval</th>\n",
       "      <th>cty2freq</th>\n",
       "      <th>cty_zscore</th>\n",
       "    </tr>\n",
       "  </thead>\n",
       "  <tbody>\n",
       "    <tr>\n",
       "      <th>194</th>\n",
       "      <td>toyota</td>\n",
       "      <td>corolla</td>\n",
       "      <td>1.8</td>\n",
       "      <td>1999</td>\n",
       "      <td>4</td>\n",
       "      <td>auto(l4)</td>\n",
       "      <td>f</td>\n",
       "      <td>24</td>\n",
       "      <td>33</td>\n",
       "      <td>r</td>\n",
       "      <td>compact</td>\n",
       "      <td>(22.0, 35.0]</td>\n",
       "      <td>high</td>\n",
       "      <td>1.677894</td>\n",
       "    </tr>\n",
       "    <tr>\n",
       "      <th>39</th>\n",
       "      <td>dodge</td>\n",
       "      <td>caravan 2wd</td>\n",
       "      <td>3.3</td>\n",
       "      <td>1999</td>\n",
       "      <td>6</td>\n",
       "      <td>auto(l4)</td>\n",
       "      <td>f</td>\n",
       "      <td>16</td>\n",
       "      <td>22</td>\n",
       "      <td>r</td>\n",
       "      <td>minivan</td>\n",
       "      <td>(8.974, 22.0]</td>\n",
       "      <td>low</td>\n",
       "      <td>-0.201829</td>\n",
       "    </tr>\n",
       "    <tr>\n",
       "      <th>149</th>\n",
       "      <td>nissan</td>\n",
       "      <td>maxima</td>\n",
       "      <td>3.5</td>\n",
       "      <td>2008</td>\n",
       "      <td>6</td>\n",
       "      <td>auto(av)</td>\n",
       "      <td>f</td>\n",
       "      <td>19</td>\n",
       "      <td>25</td>\n",
       "      <td>p</td>\n",
       "      <td>midsize</td>\n",
       "      <td>(8.974, 22.0]</td>\n",
       "      <td>high</td>\n",
       "      <td>0.503067</td>\n",
       "    </tr>\n",
       "    <tr>\n",
       "      <th>5</th>\n",
       "      <td>audi</td>\n",
       "      <td>a4</td>\n",
       "      <td>2.8</td>\n",
       "      <td>1999</td>\n",
       "      <td>6</td>\n",
       "      <td>manual(m5)</td>\n",
       "      <td>f</td>\n",
       "      <td>18</td>\n",
       "      <td>26</td>\n",
       "      <td>p</td>\n",
       "      <td>compact</td>\n",
       "      <td>(8.974, 22.0]</td>\n",
       "      <td>high</td>\n",
       "      <td>0.268102</td>\n",
       "    </tr>\n",
       "    <tr>\n",
       "      <th>233</th>\n",
       "      <td>volkswagen</td>\n",
       "      <td>passat</td>\n",
       "      <td>3.6</td>\n",
       "      <td>2008</td>\n",
       "      <td>6</td>\n",
       "      <td>auto(s6)</td>\n",
       "      <td>f</td>\n",
       "      <td>17</td>\n",
       "      <td>26</td>\n",
       "      <td>p</td>\n",
       "      <td>midsize</td>\n",
       "      <td>(8.974, 22.0]</td>\n",
       "      <td>low</td>\n",
       "      <td>0.033136</td>\n",
       "    </tr>\n",
       "  </tbody>\n",
       "</table>\n",
       "</div>"
      ],
      "text/plain": [
       "    manufacturer        model  displ  year  cyl       trans drv  cty  hwy fl  \\\n",
       "194       toyota      corolla    1.8  1999    4    auto(l4)   f   24   33  r   \n",
       "39         dodge  caravan 2wd    3.3  1999    6    auto(l4)   f   16   22  r   \n",
       "149       nissan       maxima    3.5  2008    6    auto(av)   f   19   25  p   \n",
       "5           audi           a4    2.8  1999    6  manual(m5)   f   18   26  p   \n",
       "233   volkswagen       passat    3.6  2008    6    auto(s6)   f   17   26  p   \n",
       "\n",
       "       class   cty2interval cty2freq  cty_zscore  \n",
       "194  compact   (22.0, 35.0]     high    1.677894  \n",
       "39   minivan  (8.974, 22.0]      low   -0.201829  \n",
       "149  midsize  (8.974, 22.0]     high    0.503067  \n",
       "5    compact  (8.974, 22.0]     high    0.268102  \n",
       "233  midsize  (8.974, 22.0]      low    0.033136  "
      ]
     },
     "execution_count": 15,
     "metadata": {},
     "output_type": "execute_result"
    }
   ],
   "source": [
    "mpg.sample(frac=1).head(5)"
   ]
  },
  {
   "cell_type": "code",
   "execution_count": 16,
   "id": "3bc7322c",
   "metadata": {},
   "outputs": [
    {
     "data": {
      "text/plain": [
       "(234, 14)"
      ]
     },
     "execution_count": 16,
     "metadata": {},
     "output_type": "execute_result"
    }
   ],
   "source": [
    "mpg.shape"
   ]
  },
  {
   "cell_type": "code",
   "execution_count": 17,
   "id": "88b90023",
   "metadata": {},
   "outputs": [
    {
     "data": {
      "text/plain": [
       "(140, 14)"
      ]
     },
     "execution_count": 17,
     "metadata": {},
     "output_type": "execute_result"
    }
   ],
   "source": [
    "mpg.sample(frac=0.6).shape"
   ]
  },
  {
   "cell_type": "code",
   "execution_count": 18,
   "id": "fd91876b",
   "metadata": {},
   "outputs": [
    {
     "data": {
      "text/plain": [
       "<seaborn.axisgrid.FacetGrid at 0x7fc465fd77f0>"
      ]
     },
     "execution_count": 18,
     "metadata": {},
     "output_type": "execute_result"
    },
    {
     "data": {
      "image/png": "[encoded data removed]",
      "text/plain": [
       "<Figure size 360x360 with 1 Axes>"
      ]
     },
     "metadata": {
      "needs_background": "light"
     },
     "output_type": "display_data"
    }
   ],
   "source": [
    "cty_by_drv = mpg.groupby('drv')['cty'].mean().reset_index()\n",
    "seaborn.catplot(x='drv', y='cty', data=cty_by_drv, kind='bar')"
   ]
  },
  {
   "cell_type": "code",
   "execution_count": 19,
   "id": "7c340245",
   "metadata": {},
   "outputs": [
    {
     "data": {
      "text/plain": [
       "<AxesSubplot:xlabel='cty', ylabel='hwy'>"
      ]
     },
     "execution_count": 19,
     "metadata": {},
     "output_type": "execute_result"
    },
    {
     "data": {
      "image/png": "[encoded data removed]",
      "text/plain": [
       "<Figure size 432x288 with 1 Axes>"
      ]
     },
     "metadata": {
      "needs_background": "light"
     },
     "output_type": "display_data"
    }
   ],
   "source": [
    "seaborn.scatterplot(x='cty', y='hwy', data=mpg)"
   ]
  },
  {
   "cell_type": "code",
   "execution_count": 20,
   "id": "168abfec",
   "metadata": {},
   "outputs": [
    {
     "data": {
      "text/plain": [
       "<AxesSubplot:xlabel='fl', ylabel='drv'>"
      ]
     },
     "execution_count": 20,
     "metadata": {},
     "output_type": "execute_result"
    },
    {
     "data": {
      "image/png": "[encoded data removed]",
      "text/plain": [
       "<Figure size 432x288 with 2 Axes>"
      ]
     },
     "metadata": {
      "needs_background": "light"
     },
     "output_type": "display_data"
    }
   ],
   "source": [
    "cty_by_drv_fl = mpg.pivot_table(values='cty', index='drv', columns='fl', aggfunc='count', fill_value=0)\n",
    "seaborn.heatmap(data=cty_by_drv_fl)"
   ]
  }
 ],
 "metadata": {
  "kernelspec": {
   "display_name": "Python 3 (ipykernel)",
   "language": "python",
   "name": "python3"
  },
  "language_info": {
   "codemirror_mode": {
    "name": "ipython",
    "version": 3
   },
   "file_extension": ".py",
   "mimetype": "text/x-python",
   "name": "python",
   "nbconvert_exporter": "python",
   "pygments_lexer": "ipython3",
   "version": "3.9.12"
  }
 },
 "nbformat": 4,
 "nbformat_minor": 5
}
